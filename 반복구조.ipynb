{
  "nbformat": 4,
  "nbformat_minor": 0,
  "metadata": {
    "colab": {
      "provenance": [],
      "authorship_tag": "ABX9TyO8vgfhzZVZk+BdaJz15exo",
      "include_colab_link": true
    },
    "kernelspec": {
      "name": "python3",
      "display_name": "Python 3"
    },
    "language_info": {
      "name": "python"
    }
  },
  "cells": [
    {
      "cell_type": "markdown",
      "metadata": {
        "id": "view-in-github",
        "colab_type": "text"
      },
      "source": [
        "<a href=\"https://colab.research.google.com/github/25b073/class01/blob/main/%EB%B0%98%EB%B3%B5%EA%B5%AC%EC%A1%B0.ipynb\" target=\"_parent\"><img src=\"https://colab.research.google.com/assets/colab-badge.svg\" alt=\"Open In Colab\"/></a>"
      ]
    },
    {
      "cell_type": "code",
      "execution_count": 1,
      "metadata": {
        "colab": {
          "base_uri": "https://localhost:8080/"
        },
        "id": "irbnKzAodgbt",
        "outputId": "2dcab19e-48e3-4d0b-fbd6-65467fbcf44d"
      },
      "outputs": [
        {
          "output_type": "stream",
          "name": "stdout",
          "text": [
            "카운트 다운 시작!\n",
            "5\n",
            "4\n",
            "3\n",
            "2\n",
            "1\n",
            "발사!\n",
            "\n",
            "과일 리스트:\n",
            "사과\n",
            "바나나\n",
            "체리\n",
            "\n",
            "1부터 10까지의 합: 55\n"
          ]
        }
      ],
      "source": [
        "# prompt: 반복구조를 이용한 프로그램 만들어줘\n",
        "\n",
        "# 숫자를 반복해서 출력하는 프로그램\n",
        "n = 5  # 반복할 횟수\n",
        "\n",
        "print(\"카운트 다운 시작!\")\n",
        "while n > 0:\n",
        "  print(n)\n",
        "  n = n - 1\n",
        "print(\"발사!\")\n",
        "\n",
        "# 리스트의 각 요소를 출력하는 프로그램\n",
        "my_list = [\"사과\", \"바나나\", \"체리\"]\n",
        "\n",
        "print(\"\\n과일 리스트:\")\n",
        "for item in my_list:\n",
        "  print(item)\n",
        "\n",
        "# 1부터 10까지의 합을 계산하는 프로그램\n",
        "total = 0\n",
        "for i in range(1, 11):\n",
        "  total += i\n",
        "\n",
        "print(\"\\n1부터 10까지의 합:\", total)"
      ]
    }
  ]
}