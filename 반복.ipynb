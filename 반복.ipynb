{
  "nbformat": 4,
  "nbformat_minor": 0,
  "metadata": {
    "colab": {
      "provenance": [],
      "authorship_tag": "ABX9TyMiGARp5R+TVn6IxRA3TigC",
      "include_colab_link": true
    },
    "kernelspec": {
      "name": "python3",
      "display_name": "Python 3"
    },
    "language_info": {
      "name": "python"
    }
  },
  "cells": [
    {
      "cell_type": "markdown",
      "metadata": {
        "id": "view-in-github",
        "colab_type": "text"
      },
      "source": [
        "<a href=\"https://colab.research.google.com/github/25b073/class01/blob/main/%EB%B0%98%EB%B3%B5.ipynb\" target=\"_parent\"><img src=\"https://colab.research.google.com/assets/colab-badge.svg\" alt=\"Open In Colab\"/></a>"
      ]
    },
    {
      "cell_type": "code",
      "execution_count": 1,
      "metadata": {
        "colab": {
          "base_uri": "https://localhost:8080/"
        },
        "id": "QzgxweIaqgQQ",
        "outputId": "9c3069ec-703d-4624-fe37-969e90e83abf"
      },
      "outputs": [
        {
          "output_type": "stream",
          "name": "stdout",
          "text": [
            "Moving forward 5 units.\n",
            "Turning right 90 degrees.\n",
            "Moving forward 5 units.\n",
            "Turning right 90 degrees.\n",
            "Moving forward 5 units.\n",
            "Turning right 90 degrees.\n",
            "Moving forward 5 units.\n",
            "Turning right 90 degrees.\n"
          ]
        }
      ],
      "source": [
        "# prompt: 로봇총소기인데 반복족 구조를 이용해 정사각형을 그려\n",
        "\n",
        "def draw_square():\n",
        "  \"\"\"Draws a square using robot vacuum cleaner movements.\"\"\"\n",
        "  side_length = 5  # Define the side length of the square\n",
        "\n",
        "  for _ in range(4):  # A square has 4 sides\n",
        "    # Move forward for the length of one side\n",
        "    move_forward(side_length)\n",
        "    # Turn right 90 degrees\n",
        "    turn_right(90)\n",
        "\n",
        "# Assume these functions exist to control the robot vacuum cleaner\n",
        "def move_forward(distance):\n",
        "  \"\"\"Moves the robot forward by the specified distance.\"\"\"\n",
        "  print(f\"Moving forward {distance} units.\")\n",
        "  # Add actual robot control code here\n",
        "\n",
        "def turn_right(degrees):\n",
        "  \"\"\"Turns the robot right by the specified degrees.\"\"\"\n",
        "  print(f\"Turning right {degrees} degrees.\")\n",
        "  # Add actual robot control code here\n",
        "\n",
        "# Call the function to draw the square\n",
        "draw_square()\n"
      ]
    }
  ]
}