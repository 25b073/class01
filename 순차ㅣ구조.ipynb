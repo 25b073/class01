{
  "nbformat": 4,
  "nbformat_minor": 0,
  "metadata": {
    "colab": {
      "provenance": [],
      "authorship_tag": "ABX9TyNKWnuAQRNBuCM4+GCLgSW2",
      "include_colab_link": true
    },
    "kernelspec": {
      "name": "python3",
      "display_name": "Python 3"
    },
    "language_info": {
      "name": "python"
    }
  },
  "cells": [
    {
      "cell_type": "markdown",
      "metadata": {
        "id": "view-in-github",
        "colab_type": "text"
      },
      "source": [
        "<a href=\"https://colab.research.google.com/github/25b073/class01/blob/main/%EC%88%9C%EC%B0%A8%E3%85%A3%EA%B5%AC%EC%A1%B0.ipynb\" target=\"_parent\"><img src=\"https://colab.research.google.com/assets/colab-badge.svg\" alt=\"Open In Colab\"/></a>"
      ]
    },
    {
      "cell_type": "code",
      "execution_count": 5,
      "metadata": {
        "colab": {
          "base_uri": "https://localhost:8080/",
          "height": 852
        },
        "id": "irbnKzAodgbt",
        "outputId": "50d9ae59-d4f4-4f20-b786-e1117c96ff93"
      },
      "outputs": [
        {
          "output_type": "stream",
          "name": "stdout",
          "text": [
            "Starting robot movements...\n"
          ]
        },
        {
          "output_type": "display_data",
          "data": {
            "text/plain": [
              "<Figure size 640x480 with 1 Axes>"
            ],
            "image/png": "[encoded data removed]"
          },
          "metadata": {}
        },
        {
          "output_type": "display_data",
          "data": {
            "text/plain": [
              "<Figure size 640x480 with 0 Axes>"
            ]
          },
          "metadata": {}
        },
        {
          "output_type": "display_data",
          "data": {
            "text/plain": [
              "<Figure size 640x480 with 0 Axes>"
            ]
          },
          "metadata": {}
        },
        {
          "output_type": "display_data",
          "data": {
            "text/plain": [
              "<Figure size 640x480 with 0 Axes>"
            ]
          },
          "metadata": {}
        },
        {
          "output_type": "display_data",
          "data": {
            "text/plain": [
              "<Figure size 640x480 with 0 Axes>"
            ]
          },
          "metadata": {}
        },
        {
          "output_type": "display_data",
          "data": {
            "text/plain": [
              "<Figure size 640x480 with 0 Axes>"
            ]
          },
          "metadata": {}
        },
        {
          "output_type": "display_data",
          "data": {
            "text/plain": [
              "<Figure size 640x480 with 0 Axes>"
            ]
          },
          "metadata": {}
        },
        {
          "output_type": "display_data",
          "data": {
            "text/plain": [
              "<Figure size 640x480 with 0 Axes>"
            ]
          },
          "metadata": {}
        },
        {
          "output_type": "display_data",
          "data": {
            "text/plain": [
              "<Figure size 640x480 with 0 Axes>"
            ]
          },
          "metadata": {}
        },
        {
          "output_type": "display_data",
          "data": {
            "text/plain": [
              "<Figure size 640x480 with 0 Axes>"
            ]
          },
          "metadata": {}
        },
        {
          "output_type": "display_data",
          "data": {
            "text/plain": [
              "<Figure size 640x480 with 0 Axes>"
            ]
          },
          "metadata": {}
        },
        {
          "output_type": "display_data",
          "data": {
            "text/plain": [
              "<Figure size 640x480 with 0 Axes>"
            ]
          },
          "metadata": {}
        },
        {
          "output_type": "display_data",
          "data": {
            "text/plain": [
              "<Figure size 640x480 with 0 Axes>"
            ]
          },
          "metadata": {}
        },
        {
          "output_type": "display_data",
          "data": {
            "text/plain": [
              "<Figure size 640x480 with 0 Axes>"
            ]
          },
          "metadata": {}
        },
        {
          "output_type": "display_data",
          "data": {
            "text/plain": [
              "<Figure size 640x480 with 0 Axes>"
            ]
          },
          "metadata": {}
        },
        {
          "output_type": "display_data",
          "data": {
            "text/plain": [
              "<Figure size 640x480 with 0 Axes>"
            ]
          },
          "metadata": {}
        },
        {
          "output_type": "display_data",
          "data": {
            "text/plain": [
              "<Figure size 640x480 with 0 Axes>"
            ]
          },
          "metadata": {}
        },
        {
          "output_type": "display_data",
          "data": {
            "text/plain": [
              "<Figure size 640x480 with 0 Axes>"
            ]
          },
          "metadata": {}
        },
        {
          "output_type": "display_data",
          "data": {
            "text/plain": [
              "<Figure size 640x480 with 0 Axes>"
            ]
          },
          "metadata": {}
        },
        {
          "output_type": "display_data",
          "data": {
            "text/plain": [
              "<Figure size 640x480 with 0 Axes>"
            ]
          },
          "metadata": {}
        },
        {
          "output_type": "stream",
          "name": "stdout",
          "text": [
            "Robot movements finished.\n"
          ]
        }
      ],
      "source": [
        "# prompt: 로봇 청소기인데 적당한 속도로 움직이게 해줘. 그리고 움직인뒤에흔적이남게해줘\n",
        "\n",
        "import matplotlib.pyplot as plt\n",
        "import time\n",
        "\n",
        "# Initialize variables\n",
        "x, y = 0, 0  # Robot's starting position\n",
        "speed = 0.1 # Adjust this value for the desired speed (smaller value = slower)\n",
        "path = [(x, y)] # To store the robot's path\n",
        "\n",
        "# Create a figure and axes for plotting\n",
        "fig, ax = plt.subplots()\n",
        "ax.set_xlim(-10, 10) # Adjust plot limits as needed\n",
        "ax.set_ylim(-10, 10)\n",
        "ax.set_aspect('equal', adjustable='box')\n",
        "ax.grid(True)\n",
        "\n",
        "# Function to simulate movement and plot\n",
        "def move_robot(dx, dy):\n",
        "    global x, y\n",
        "    # Simulate movement step by step\n",
        "    steps = max(abs(dx), abs(dy))\n",
        "    for i in range(steps):\n",
        "        x += dx / steps\n",
        "        y += dy / steps\n",
        "        path.append((x, y))\n",
        "        # Update the plot\n",
        "        ax.clear() # Clear previous plot\n",
        "        ax.set_xlim(-10, 10)\n",
        "        ax.set_ylim(-10, 10)\n",
        "        ax.set_aspect('equal', adjustable='box')\n",
        "        ax.grid(True)\n",
        "        ax.plot([p[0] for p in path], [p[1] for p in path], 'b-', label='Path') # Plot the path\n",
        "        ax.plot(x, y, 'ro', markersize=10, label='Robot') # Plot the robot\n",
        "        ax.set_title(f'Robot Position: ({x:.2f}, {y:.2f})')\n",
        "        ax.legend()\n",
        "        plt.draw()\n",
        "        plt.pause(speed) # Pause to control speed\n",
        "\n",
        "# Example movements\n",
        "print(\"Starting robot movements...\")\n",
        "move_robot(5, 0)  # Move right\n",
        "move_robot(0, 5)  # Move up\n",
        "move_robot(-5, 0) # Move left\n",
        "move_robot(0, -5) # Move down\n",
        "\n",
        "print(\"Robot movements finished.\")\n"
      ]
    }
  ]
}