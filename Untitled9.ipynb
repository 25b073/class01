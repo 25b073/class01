{
  "nbformat": 4,
  "nbformat_minor": 0,
  "metadata": {
    "colab": {
      "provenance": [],
      "authorship_tag": "ABX9TyPi6ZyVGcivqx6qXdHNF00S",
      "include_colab_link": true
    },
    "kernelspec": {
      "name": "python3",
      "display_name": "Python 3"
    },
    "language_info": {
      "name": "python"
    }
  },
  "cells": [
    {
      "cell_type": "markdown",
      "metadata": {
        "id": "view-in-github",
        "colab_type": "text"
      },
      "source": [
        "<a href=\"https://colab.research.google.com/github/25b073/class01/blob/main/Untitled9.ipynb\" target=\"_parent\"><img src=\"https://colab.research.google.com/assets/colab-badge.svg\" alt=\"Open In Colab\"/></a>"
      ]
    },
    {
      "cell_type": "code",
      "execution_count": 1,
      "metadata": {
        "colab": {
          "base_uri": "https://localhost:8080/"
        },
        "id": "98pVpAUEcpEX",
        "outputId": "ff861ef5-6ed6-4715-b95d-a52ce7bc7764"
      },
      "outputs": [
        {
          "output_type": "stream",
          "name": "stdout",
          "text": [
            "이름: 홍길동\n",
            "나이: 30\n",
            "두 수의 합: 30\n"
          ]
        }
      ],
      "source": [
        "# prompt: 순차구조를 사용한 프로그램 만들어\n",
        "\n",
        "# 변수 선언\n",
        "name = \"홍길동\"\n",
        "age = 30\n",
        "\n",
        "# 정보 출력\n",
        "print(\"이름:\", name)\n",
        "print(\"나이:\", age)\n",
        "\n",
        "# 간단한 계산\n",
        "num1 = 10\n",
        "num2 = 20\n",
        "sum_result = num1 + num2\n",
        "print(\"두 수의 합:\", sum_result)\n"
      ]
    }
  ]
}