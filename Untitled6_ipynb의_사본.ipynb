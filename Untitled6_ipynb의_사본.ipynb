{
  "nbformat": 4,
  "nbformat_minor": 0,
  "metadata": {
    "colab": {
      "provenance": [],
      "authorship_tag": "ABX9TyPso8NDY8upBz2h3rRmGEWA",
      "include_colab_link": true
    },
    "kernelspec": {
      "name": "python3",
      "display_name": "Python 3"
    },
    "language_info": {
      "name": "python"
    }
  },
  "cells": [
    {
      "cell_type": "markdown",
      "metadata": {
        "id": "view-in-github",
        "colab_type": "text"
      },
      "source": [
        "<a href=\"https://colab.research.google.com/github/25b073/class01/blob/main/Untitled6_ipynb%EC%9D%98_%EC%82%AC%EB%B3%B8.ipynb\" target=\"_parent\"><img src=\"https://colab.research.google.com/assets/colab-badge.svg\" alt=\"Open In Colab\"/></a>"
      ]
    },
    {
      "cell_type": "code",
      "execution_count": null,
      "metadata": {
        "colab": {
          "base_uri": "https://localhost:8080/"
        },
        "id": "W_GHAVCqOPix",
        "outputId": "0031638c-06d5-43ce-b0ec-c7a34483ebf1"
      },
      "outputs": [
        {
          "output_type": "stream",
          "name": "stdout",
          "text": [
            "덧셈 게임을 시작합니다! 준비되셨나요?\n",
            "8 * 4 = ? 32\n",
            "정답입니다!\n",
            "2 * 1 = ? 2\n",
            "정답입니다!\n"
          ]
        }
      ],
      "source": [
        "# prompt: 초등학생1학년이 할수있는 간단한덧셈게임 만들어줘. 코드도 한줄 한줄 설명해줘.\n",
        "\n",
        "import random\n",
        "\n",
        "# 난수 생성을 위한 random 모듈을 임포트합니다.\n",
        "\n",
        "def easy_addition_game():\n",
        "  # 간단한 덧셈 게임 함수를 정의합니다.\n",
        "\n",
        "  print(\"곱셈 게임을 시작합니다! 준비되셨나요?\")\n",
        "  # 게임 시작을 알리는 메시지를 출력합니다.\n",
        "\n",
        "  score = 0\n",
        "  # 플레이어의 점수를 저장할 변수를 0으로 초기화합니다.\n",
        "\n",
        "  for _ in range(7):\n",
        "    # 5번의 문제를 반복합니다. _는 루프 인덱스를 사용하지 않을 때 관례적으로 사용하는 변수명입니다.\n",
        "\n",
        "    num1 = random.randint(1, 10)\n",
        "    num2 = random.randint(1, 10)\n",
        "    # 1부터 10 사이의 난수 두 개를 생성하여 num1과 num2에 저장합니다.\n",
        "\n",
        "    correct_answer = num1 * num2\n",
        "    # 두 난수의 합을 correct_answer에 저장합니다.\n",
        "\n",
        "    user_answer = int(input(f\"{num1} * {num2} = ? \"))\n",
        "    # 사용자로부터 덧셈 문제의 답을 입력받습니다. 입력받은 값은 문자열이므로 int()를 사용하여 정수로 변환합니다.\n",
        "    # f-string을 사용하여 num1과 num2를 출력합니다.\n",
        "\n",
        "    if user_answer == correct_answer:\n",
        "      print(\"정답입니다!\")\n",
        "      score += 1\n",
        "      # 사용자의 답이 정답과 일치하면 \"정답입니다!\"를 출력하고 점수를 1점 증가시킵니다.\n",
        "    else:\n",
        "      print(f\"틀렸습니다. 정답은 {correct_answer}입니다.\")\n",
        "      # 사용자의 답이 정답과 일치하지 않으면 \"틀렸습니다. 정답은 {correct_answer}입니다.\"를 출력합니다.\n",
        "\n",
        "  print(f\"게임 종료! 당신의 점수는 {score}점입니다.\")\n",
        "  # 게임 종료 후 최종 점수를 출력합니다.\n",
        "\n",
        "\n",
        "easy_addition_game()\n",
        "# easy_addition_game 함수를 호출하여 게임을 시작합니다.\n"
      ]
    }
  ]
}