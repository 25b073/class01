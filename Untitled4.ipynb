{
  "nbformat": 4,
  "nbformat_minor": 0,
  "metadata": {
    "colab": {
      "provenance": [],
      "authorship_tag": "ABX9TyPbCpDrp0nqxYfMw2ifQHgW",
      "include_colab_link": true
    },
    "kernelspec": {
      "name": "python3",
      "display_name": "Python 3"
    },
    "language_info": {
      "name": "python"
    }
  },
  "cells": [
    {
      "cell_type": "markdown",
      "metadata": {
        "id": "view-in-github",
        "colab_type": "text"
      },
      "source": [
        "<a href=\"https://colab.research.google.com/github/25b073/class01/blob/main/Untitled4.ipynb\" target=\"_parent\"><img src=\"https://colab.research.google.com/assets/colab-badge.svg\" alt=\"Open In Colab\"/></a>"
      ]
    },
    {
      "cell_type": "code",
      "execution_count": null,
      "metadata": {
        "colab": {
          "base_uri": "https://localhost:8080/"
        },
        "id": "UzJPZFzKWzw9",
        "outputId": "9c5831cb-5c19-4fdc-b5cc-d642016807eb"
      },
      "outputs": [
        {
          "output_type": "stream",
          "name": "stdout",
          "text": [
            "덧셈 게임 시작!\n"
          ]
        }
      ],
      "source": [
        "# prompt: 덧샘게임 만들어줘. 초등학생1학년이 할수있는 게임하나 만들어줘\n",
        "\n",
        "import random\n",
        "\n",
        "def addition_game():\n",
        "  print(\"덧셈 게임 시작!\")\n",
        "  score = 0\n",
        "\n",
        "  for i in range(7):  # 7문제 출제\n",
        "    num1 = random.randint(1, 9)\n",
        "    num2 = random.randint(1, 9)\n",
        "\n",
        "    answer = int(input(f\"{num1} + {num2} = ? \"))\n",
        "\n",
        "    if answer == num1 + num2:\n",
        "      print(\"정답!\")\n",
        "      score += 1\n",
        "    else:\n",
        "      print(f\"아쉽네 정답은 {num1 + num2}이야.\")\n",
        "\n",
        "  print(f\"\\n게임 종료! 총 {score}개 맞첬어.아주 잘했어!!★.\")\n",
        "\n",
        "addition_game()\n"
      ]
    },
    {
      "cell_type": "code",
      "source": [
        "from google.colab import drive\n",
        "drive.mount('/content/drive')"
      ],
      "metadata": {
        "id": "QwwZ0gjcbQJP"
      },
      "execution_count": null,
      "outputs": []
    }
  ]
}