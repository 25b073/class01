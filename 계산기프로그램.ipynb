{
  "nbformat": 4,
  "nbformat_minor": 0,
  "metadata": {
    "colab": {
      "provenance": [],
      "authorship_tag": "ABX9TyNHNIfsRzjwt5po28k6uV02",
      "include_colab_link": true
    },
    "kernelspec": {
      "name": "python3",
      "display_name": "Python 3"
    },
    "language_info": {
      "name": "python"
    }
  },
  "cells": [
    {
      "cell_type": "markdown",
      "metadata": {
        "id": "view-in-github",
        "colab_type": "text"
      },
      "source": [
        "<a href=\"https://colab.research.google.com/github/25b073/class01/blob/main/%EA%B3%84%EC%82%B0%EA%B8%B0%ED%94%84%EB%A1%9C%EA%B7%B8%EB%9E%A8.ipynb\" target=\"_parent\"><img src=\"https://colab.research.google.com/assets/colab-badge.svg\" alt=\"Open In Colab\"/></a>"
      ]
    },
    {
      "cell_type": "code",
      "execution_count": 1,
      "metadata": {
        "colab": {
          "base_uri": "https://localhost:8080/"
        },
        "id": "GVvYoDo-a7Cd",
        "outputId": "efa2d994-f1f8-4072-b41d-200caa0728ff"
      },
      "outputs": [
        {
          "output_type": "stream",
          "name": "stdout",
          "text": [
            "첫 번째 숫자를 입력하세요: 1\n",
            "연산자를 입력하세요 (+, -, *, /): +\n",
            "두 번째 숫자를 입력하세요: 2\n",
            "결과: 3.0\n"
          ]
        }
      ],
      "source": [
        "# prompt: 사칙연산이 가능한 프로그램 만들어줘\n",
        "\n",
        "# Define a function that performs arithmetic operations\n",
        "def calculator(num1, operator, num2):\n",
        "  \"\"\"Performs basic arithmetic operations on two numbers.\n",
        "\n",
        "  Args:\n",
        "    num1: The first number.\n",
        "    operator: The arithmetic operator (+, -, *, /).\n",
        "    num2: The second number.\n",
        "\n",
        "  Returns:\n",
        "    The result of the operation, or an error message if the operator is invalid\n",
        "    or division by zero occurs.\n",
        "  \"\"\"\n",
        "  if operator == '+':\n",
        "    return num1 + num2\n",
        "  elif operator == '-':\n",
        "    return num1 - num2\n",
        "  elif operator == '*':\n",
        "    return num1 * num2\n",
        "  elif operator == '/':\n",
        "    if num2 == 0:\n",
        "      return \"Error: Division by zero is not allowed.\"\n",
        "    else:\n",
        "      return num1 / num2\n",
        "  else:\n",
        "    return \"Error: Invalid operator.\"\n",
        "\n",
        "# Example usage:\n",
        "num1 = float(input(\"첫 번째 숫자를 입력하세요: \"))\n",
        "operator = input(\"연산자를 입력하세요 (+, -, *, /): \")\n",
        "num2 = float(input(\"두 번째 숫자를 입력하세요: \"))\n",
        "\n",
        "result = calculator(num1, operator, num2)\n",
        "print(\"결과:\", result)"
      ]
    }
  ]
}