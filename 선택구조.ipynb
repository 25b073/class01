{
  "nbformat": 4,
  "nbformat_minor": 0,
  "metadata": {
    "colab": {
      "provenance": [],
      "authorship_tag": "ABX9TyME8oxe9DcJyrdaBlazrLNa",
      "include_colab_link": true
    },
    "kernelspec": {
      "name": "python3",
      "display_name": "Python 3"
    },
    "language_info": {
      "name": "python"
    }
  },
  "cells": [
    {
      "cell_type": "markdown",
      "metadata": {
        "id": "view-in-github",
        "colab_type": "text"
      },
      "source": [
        "<a href=\"https://colab.research.google.com/github/25b073/class01/blob/main/%EC%84%A0%ED%83%9D%EA%B5%AC%EC%A1%B0.ipynb\" target=\"_parent\"><img src=\"https://colab.research.google.com/assets/colab-badge.svg\" alt=\"Open In Colab\"/></a>"
      ]
    },
    {
      "cell_type": "code",
      "execution_count": 1,
      "metadata": {
        "colab": {
          "base_uri": "https://localhost:8080/"
        },
        "id": "RCkBJnYzdGEV",
        "outputId": "478849ee-d6e2-4036-9a71-5d16a15472eb"
      },
      "outputs": [
        {
          "output_type": "stream",
          "name": "stdout",
          "text": [
            "나이를 입력하세요: 11\n",
            "당신은 어린이입니다.\n"
          ]
        }
      ],
      "source": [
        "# prompt: 선택구조를 사용한 프로그램 만들어줘\n",
        "\n",
        "# 사용자의 나이를 입력받습니다.\n",
        "age = int(input(\"나이를 입력하세요: \"))\n",
        "\n",
        "# 만약 18세 이상이면 성인이라고 출력합니다.\n",
        "if age >= 18:\n",
        "  print(\"당신은 성인입니다.\")\n",
        "# 그렇지 않고 13세 이상이면 청소년이라고 출력합니다.\n",
        "elif age >= 13:\n",
        "  print(\"당신은 청소년입니다.\")\n",
        "# 그 외의 경우는 어린이입니다.\n",
        "else:\n",
        "  print(\"당신은 어린이입니다.\")"
      ]
    }
  ]
}