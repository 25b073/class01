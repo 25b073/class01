{
  "nbformat": 4,
  "nbformat_minor": 0,
  "metadata": {
    "colab": {
      "provenance": [],
      "authorship_tag": "ABX9TyNEkgf11XYcifipBMEakC6E",
      "include_colab_link": true
    },
    "kernelspec": {
      "name": "python3",
      "display_name": "Python 3"
    },
    "language_info": {
      "name": "python"
    }
  },
  "cells": [
    {
      "cell_type": "markdown",
      "metadata": {
        "id": "view-in-github",
        "colab_type": "text"
      },
      "source": [
        "<a href=\"https://colab.research.google.com/github/25b073/class01/blob/main/%EC%84%A0%ED%83%9D.ipynb\" target=\"_parent\"><img src=\"https://colab.research.google.com/assets/colab-badge.svg\" alt=\"Open In Colab\"/></a>"
      ]
    },
    {
      "cell_type": "code",
      "source": [],
      "metadata": {
        "id": "dvClKqmsojyZ"
      },
      "execution_count": 6,
      "outputs": []
    },
    {
      "cell_type": "code",
      "execution_count": 6,
      "metadata": {
        "colab": {
          "base_uri": "https://localhost:8080/",
          "height": 113
        },
        "id": "pihrbA8doL7q",
        "outputId": "b6aca99b-6ad4-4920-c47e-f090221b0d32"
      },
      "outputs": [
        {
          "output_type": "error",
          "ename": "SyntaxError",
          "evalue": "unmatched ']' (<ipython-input-6-72fedb7f5bb0>, line 55)",
          "traceback": [
            "\u001b[0;36m  File \u001b[0;32m\"<ipython-input-6-72fedb7f5bb0>\"\u001b[0;36m, line \u001b[0;32m55\u001b[0m\n\u001b[0;31m    ]\u001b[0m\n\u001b[0m    ^\u001b[0m\n\u001b[0;31mSyntaxError\u001b[0m\u001b[0;31m:\u001b[0m unmatched ']'\n"
          ]
        }
      ],
      "source": [
        "# prompt: 선택구조를  이용한  프로그램  만들어줘  로봇총소기가 벽에닿면 튕기게 해줘\n",
        "\n",
        "# This code snippet is in Korean.\n",
        "# It creates a simple simulation of a robot cleaner that bounces off walls.\n",
        "\n",
        "import time\n",
        "import random\n",
        "from IPython.display import clear_output\n",
        "\n",
        "# Define the dimensions of the room\n",
        "room_width = 20\n",
        "room_height = 10\n",
        "\n",
        "# Initialize robot's position and direction\n",
        "robot_x = random.randint(0, room_width - 1)\n",
        "robot_y = random.randint(0, room_height - 1)\n",
        "\n",
        "# dx and dy represent the change in x and y coordinates per step\n",
        "# Initialize with a random direction\n",
        "dx = random.choice([-1, 1])\n",
        "dy = random.choice([-1, 1])\n",
        "\n",
        "print(\"로봇 청소기 시뮬레이션 시작!\")\n",
        "\n",
        "for step in range(100): # Simulate for 100 steps\n",
        "  clear_output(wait=True) # Clear previous output for animation\n",
        "\n",
        "  # Check for wall collisions and reverse direction if needed\n",
        "  if robot_x + dx >= room_width or robot_x + dx < 0:\n",
        "    dx *= -1  # Reverse horizontal direction\n",
        "  if robot_y + dy >= room_height or robot_y + dy < 0:\n",
        "    dy *= -1  # Reverse vertical direction\n",
        "\n",
        "  # Update robot's position\n",
        "  robot_x += dx\n",
        "  robot_y += dy\n",
        "\n",
        "  # Print the room layout\n",
        "  for y in range(room_height):\n",
        "    row = \"\"\n",
        "    for x in range(room_width):\n",
        "      if x == robot_x and y == robot_y:\n",
        "        row += \"🤖\"  # Robot icon\n",
        "      elif x == 0 or x == room_width - 1 or y == 0 or y == room_height - 1:\n",
        "        row += \"🧱\"  # Wall icon\n",
        "      else:\n",
        "        row += \"  \"  # Empty space\n",
        "    print(row)\n",
        "\n",
        "  time.sleep(0.2) # Pause for a short time to see the movement\n",
        "\n",
        "print(\"시뮬레이션 종료.\")\n"
      ]
    }
  ]
}