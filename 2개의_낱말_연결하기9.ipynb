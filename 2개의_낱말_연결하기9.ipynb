{
  "nbformat": 4,
  "nbformat_minor": 0,
  "metadata": {
    "colab": {
      "provenance": [],
      "authorship_tag": "ABX9TyPA3O8otfXywlUiiyKwBy9s",
      "include_colab_link": true
    },
    "kernelspec": {
      "name": "python3",
      "display_name": "Python 3"
    },
    "language_info": {
      "name": "python"
    }
  },
  "cells": [
    {
      "cell_type": "markdown",
      "metadata": {
        "id": "view-in-github",
        "colab_type": "text"
      },
      "source": [
        "<a href=\"https://colab.research.google.com/github/25b073/class01/blob/main/2%EA%B0%9C%EC%9D%98_%EB%82%B1%EB%A7%90_%EC%97%B0%EA%B2%B0%ED%95%98%EA%B8%B09.ipynb\" target=\"_parent\"><img src=\"https://colab.research.google.com/assets/colab-badge.svg\" alt=\"Open In Colab\"/></a>"
      ]
    },
    {
      "cell_type": "code",
      "execution_count": 1,
      "metadata": {
        "colab": {
          "base_uri": "https://localhost:8080/"
        },
        "id": "0dRG1Aegbbrm",
        "outputId": "be3ecce6-887e-4871-d016-98f403e55e94"
      },
      "outputs": [
        {
          "output_type": "stream",
          "name": "stdout",
          "text": [
            "이름을 입력하세요: 현우\n",
            "좋아하는 색깔을 입력하세요: 검검\n",
            "현우(이)는 검검색을 좋아하는구나\n"
          ]
        }
      ],
      "source": [
        "# prompt: 영현(이)는 파란색을 좋아하는구나 와같은 프로그램 만들어줘\n",
        "\n",
        "name = input(\"이름을 입력하세요: \")\n",
        "color = input(\"좋아하는 색깔을 입력하세요: \")\n",
        "\n",
        "print(f\"{name}(이)는 {color}색을 좋아하는구나\")"
      ]
    }
  ]
}